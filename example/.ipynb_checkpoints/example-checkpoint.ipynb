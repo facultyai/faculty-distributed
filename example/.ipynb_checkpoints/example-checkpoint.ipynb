{
 "cells": [
  {
   "cell_type": "code",
   "execution_count": null,
   "metadata": {},
   "outputs": [],
   "source": [
    "import time\n",
    "import cloudpickle\n",
    "import distributed\n",
    "import os\n",
    "import subprocess\n",
    "import numpy as np\n",
    "import itertools\n",
    "from faculty import client\n",
    "import mlflow\n",
    "\n",
    "import faculty_parallel\n",
    "from faculty_parallel.serialize import ParallelJobs\n",
    "from faculty_parallel.utils import job_name_to_job_id\n",
    "\n",
    "from sklearn.datasets import load_iris\n",
    "from sklearn.model_selection import train_test_split\n",
    "from sklearn.ensemble import RandomForestClassifier\n",
    "from sklearn.metrics import accuracy_score"
   ]
  },
  {
   "cell_type": "markdown",
   "metadata": {},
   "source": [
    "Currently needs a path to save outputs, needs to be changed. This path needs to contain the folders `saved_funcs`, `output` and `data`"
   ]
  },
  {
   "cell_type": "code",
   "execution_count": null,
   "metadata": {},
   "outputs": [],
   "source": [
    "path = \"/project/laurence/parallel_tests/\"\n",
    "project_id = os.getenv('FACULTY_PROJECT_ID')\n",
    "job_id = job_name_to_job_id(\"parallel_laurence\")"
   ]
  },
  {
   "cell_type": "markdown",
   "metadata": {},
   "source": [
    "Load data for training model"
   ]
  },
  {
   "cell_type": "code",
   "execution_count": null,
   "metadata": {},
   "outputs": [],
   "source": [
    "data = load_iris()\n",
    "x_train, x_test, y_train, y_test = train_test_split(data.data, data.target)\n",
    "np.save(os.path.join(path, \"data/x_train.npy\"), x_train)\n",
    "np.save(os.path.join(path, \"data/y_train.npy\"), y_train)\n",
    "np.save(os.path.join(path, \"data/x_test.npy\"), x_test)\n",
    "np.save(os.path.join(path, \"data/y_test.npy\"), y_test)"
   ]
  },
  {
   "cell_type": "markdown",
   "metadata": {},
   "source": [
    "Define a function to run in parallel on jobs. Log results on MLFlow"
   ]
  },
  {
   "cell_type": "code",
   "execution_count": null,
   "metadata": {},
   "outputs": [],
   "source": [
    "def train_and_predict(features):\n",
    "    with mlflow.start_run():\n",
    "        mlflow.log_param('features', str(features))\n",
    "        x_train = np.load(os.path.join(path, \"data/x_train.npy\"))\n",
    "        y_train = np.load(os.path.join(path, \"data/y_train.npy\"))\n",
    "        x_test = np.load(os.path.join(path, \"data/x_test.npy\"))\n",
    "        y_test = np.load(os.path.join(path, \"data/y_test.npy\"))\n",
    "        clf = RandomForestClassifier(n_estimators=5, n_jobs=4, verbose=1)\n",
    "        clf.fit(x_train[:, features], y_train)\n",
    "        predictions = clf.predict(x_test[:, features])\n",
    "        mlflow.log_metric('accuracy', accuracy_score(y_test, predictions))\n",
    "        return predictions\n",
    "    "
   ]
  },
  {
   "cell_type": "markdown",
   "metadata": {},
   "source": [
    "Give list of arguments to for function to run. Here we are training over different pairs of features and comaparing results."
   ]
  },
  {
   "cell_type": "code",
   "execution_count": null,
   "metadata": {},
   "outputs": [],
   "source": [
    "args_list = [[list(x)] for x in itertools.combinations([0, 1, 2, 3], 2)]\n",
    "args_list"
   ]
  },
  {
   "cell_type": "markdown",
   "metadata": {},
   "source": [
    "Initiate class"
   ]
  },
  {
   "cell_type": "code",
   "execution_count": null,
   "metadata": {},
   "outputs": [],
   "source": [
    "pj = ParallelJobs(path, project_id, job_id)"
   ]
  },
  {
   "cell_type": "markdown",
   "metadata": {},
   "source": [
    "Run jobs to compute predictions"
   ]
  },
  {
   "cell_type": "code",
   "execution_count": null,
   "metadata": {},
   "outputs": [],
   "source": [
    "predictions = pj.parmap(train_and_predict, args_list)"
   ]
  },
  {
   "cell_type": "code",
   "execution_count": null,
   "metadata": {},
   "outputs": [],
   "source": [
    "[accuracy_score(y_test, prediction) for prediction in predictions]"
   ]
  },
  {
   "cell_type": "code",
   "execution_count": null,
   "metadata": {},
   "outputs": [],
   "source": []
  }
 ],
 "metadata": {
  "kernelspec": {
   "display_name": "Python [conda env:Python3]",
   "language": "python",
   "name": "conda-env-Python3-py"
  },
  "language_info": {
   "codemirror_mode": {
    "name": "ipython",
    "version": 3
   },
   "file_extension": ".py",
   "mimetype": "text/x-python",
   "name": "python",
   "nbconvert_exporter": "python",
   "pygments_lexer": "ipython3",
   "version": "3.6.8"
  }
 },
 "nbformat": 4,
 "nbformat_minor": 2
}
